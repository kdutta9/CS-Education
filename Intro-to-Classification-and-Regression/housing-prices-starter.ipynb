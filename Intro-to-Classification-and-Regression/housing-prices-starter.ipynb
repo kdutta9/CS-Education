{
 "cells": [
  {
   "cell_type": "markdown",
   "metadata": {},
   "source": [
    "# Predicting Housing Prices in Boston"
   ]
  },
  {
   "cell_type": "code",
   "execution_count": 1,
   "metadata": {},
   "outputs": [],
   "source": [
    "import pandas as pd\n",
    "import numpy as np\n",
    "import sklearn"
   ]
  },
  {
   "cell_type": "code",
   "execution_count": 2,
   "metadata": {},
   "outputs": [],
   "source": [
    "from sklearn.datasets import load_boston\n",
    "prices = load_boston()\n",
    "df = pd.DataFrame(np.c_[prices['data'], prices['target']],\n",
    "                  columns= np.append(prices['feature_names'], ['target']))"
   ]
  },
  {
   "cell_type": "markdown",
   "metadata": {},
   "source": [
    "## Guide to Building an ML Model\n",
    "1. Collect data.\n",
    "2. Create a training set and testing set.\n",
    "    -  A training set builds our model. Our testing set is what we use to evaluate our model's predictions.\n",
    "3. Choose a model, based on our goals and data.\n",
    "   - See ML models with sklearn [here](https://scikit-learn.org/stable/modules/linear_model.html).\n",
    "   - Alternatively, you can build your own model to optimize to your data.\n",
    "4. Make predictions with our model.\n",
    "5. Evaluate model by comparing predictions to our testing set."
   ]
  },
  {
   "cell_type": "code",
   "execution_count": null,
   "metadata": {},
   "outputs": [],
   "source": []
  }
 ],
 "metadata": {
  "kernelspec": {
   "display_name": "Python 3",
   "language": "python",
   "name": "python3"
  },
  "language_info": {
   "codemirror_mode": {
    "name": "ipython",
    "version": 3
   },
   "file_extension": ".py",
   "mimetype": "text/x-python",
   "name": "python",
   "nbconvert_exporter": "python",
   "pygments_lexer": "ipython3",
   "version": "3.7.1"
  }
 },
 "nbformat": 4,
 "nbformat_minor": 2
}
